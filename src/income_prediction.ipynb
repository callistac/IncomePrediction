{
 "cells": [
  {
   "cell_type": "markdown",
   "id": "e2af1096",
   "metadata": {},
   "source": [
    "# Income Predictor\n",
    "**Goal: Create a model that can predict whether someone makes over 50k or below 50k**\n",
    "\n",
    "Technique\n",
    "- Data Cleaning\n",
    "- Feature Engineering\n",
    "- Feature Selection\n",
    "- Implement Neural Network\n",
    "- Evaluate model"
   ]
  },
  {
   "cell_type": "code",
   "execution_count": 1,
   "id": "fb8e0710",
   "metadata": {},
   "outputs": [],
   "source": [
    "import pandas as pd\n",
    "import numpy as np\n",
    "import sklearn\n",
    "import keras\n",
    "import tensorflow as tf\n",
    "import matplotlib.pyplot as plt\n",
    "import seaborn as sns\n",
    "import warnings\n",
    "from utils import *\n",
    "from sklearn.preprocessing import OneHotEncoder, LabelBinarizer\n",
    "warnings.filterwarnings(\"ignore\") "
   ]
  },
  {
   "cell_type": "code",
   "execution_count": 2,
   "id": "5f22f24d",
   "metadata": {},
   "outputs": [],
   "source": [
    "# load data for training and testing\n",
    "df_train = load_data('../data/au_train.csv')\n",
    "df_test = load_data('../data/au_test.csv')"
   ]
  },
  {
   "cell_type": "markdown",
   "id": "c1ac5343",
   "metadata": {},
   "source": [
    "## Data Cleaning"
   ]
  },
  {
   "cell_type": "code",
   "execution_count": 3,
   "id": "167e2885",
   "metadata": {},
   "outputs": [],
   "source": [
    "# replacing missing values with numpy nan\n",
    "df_train = df_train.replace(' ?', np.NaN)\n",
    "df_test = df_test.replace(' ?', np.NaN)"
   ]
  },
  {
   "cell_type": "markdown",
   "id": "b7a7abc8",
   "metadata": {},
   "source": [
    "## Feature Selection (Round 1)"
   ]
  },
  {
   "cell_type": "code",
   "execution_count": 4,
   "id": "9cb0f820",
   "metadata": {},
   "outputs": [],
   "source": [
    "# removing education column (since education was found to exactly correlate with education-num in the eda analysis)\n",
    "df_train = df_train.drop(['education'], axis=1)\n",
    "df_test = df_test.drop(['education'], axis=1)"
   ]
  },
  {
   "cell_type": "markdown",
   "id": "318ba72c",
   "metadata": {},
   "source": [
    "## Feature Engineering\n",
    "- Limit native-country feature to U.S. and non-U.S. and one hot encode\n",
    "- One hot encode all categorical features\n",
    "- Binarize labels\n",
    "- Standardize features"
   ]
  },
  {
   "cell_type": "code",
   "execution_count": 5,
   "id": "8684848a",
   "metadata": {},
   "outputs": [],
   "source": [
    "df_train['US'] = df_train['native-country'] == ' United-States'\n",
    "df_train = df_train.drop(['native-country'], axis=1)\n",
    "\n",
    "df_test['US'] = df_test['native-country'] == ' United-States'\n",
    "df_test = df_test.drop(['native-country'], axis=1)"
   ]
  },
  {
   "cell_type": "code",
   "execution_count": 6,
   "id": "463bcd69",
   "metadata": {},
   "outputs": [],
   "source": [
    "def one_hot_encode(df, columns):\n",
    "    '''\n",
    "    Handles categorical inputs by creating a binary feature for each possible category,\n",
    "    assigning a value of 1 for the feature that corresponds to the original category and 0\n",
    "    for the remaining\n",
    "    '''\n",
    "    return pd.get_dummies(df, columns=columns)"
   ]
  },
  {
   "cell_type": "code",
   "execution_count": 7,
   "id": "c6fa87dc",
   "metadata": {},
   "outputs": [],
   "source": [
    "def binarize_lbls(labels):\n",
    "    '''\n",
    "    Binarizes dependent variables (0 and 1)\n",
    "    '''\n",
    "    lb = LabelBinarizer()\n",
    "    return pd.DataFrame(lb.fit_transform(labels), columns=['class'])"
   ]
  },
  {
   "cell_type": "code",
   "execution_count": 8,
   "id": "bb2fa5b0",
   "metadata": {},
   "outputs": [],
   "source": [
    "# converting categorical values to numerical values\n",
    "categorical_columns = ['workclass', 'marital-status',\\\n",
    "                       'relationship', 'race', 'sex', 'US', 'occupation']\n",
    "\n",
    "df_train_encoded = one_hot_encode(df_train, categorical_columns)\n",
    "df_train_encoded.columns = map(str.lower, df_train_encoded.columns)\n",
    "\n",
    "df_test_encoded = one_hot_encode(df_test, categorical_columns)\n",
    "df_test_encoded.columns = map(str.lower, df_test_encoded.columns)\n",
    "\n",
    "# dropping labels from feature set\n",
    "x_train = df_train_encoded.drop(['class'], axis=1)\n",
    "x_test = df_test_encoded.drop(['class'], axis=1)"
   ]
  },
  {
   "cell_type": "code",
   "execution_count": 9,
   "id": "a626e6b0",
   "metadata": {},
   "outputs": [],
   "source": [
    "lb = LabelBinarizer()\n",
    "y_train = pd.DataFrame(lb.fit_transform(df_train['class']), columns=['class'])\n",
    "y_test = pd.DataFrame(lb.fit_transform(df_test['class']), columns=['class'])"
   ]
  },
  {
   "cell_type": "code",
   "execution_count": 10,
   "id": "3a9a0f70",
   "metadata": {},
   "outputs": [
    {
     "name": "stdout",
     "output_type": "stream",
     "text": [
      "Shape of the new training set: (32561, 50). Shape of the new test set: (16281, 50).\n"
     ]
    }
   ],
   "source": [
    "print(\"Shape of the new training set: {}. Shape of the new test set: {}.\".format(x_train.shape, x_test.shape))\n"
   ]
  },
  {
   "cell_type": "markdown",
   "id": "5790b096",
   "metadata": {},
   "source": [
    "#### Feature Scaling / Standardization"
   ]
  },
  {
   "cell_type": "code",
   "execution_count": 11,
   "id": "6f1cc05b",
   "metadata": {},
   "outputs": [],
   "source": [
    "# standardizes the data by removing the mean and scaling to unit variance\n",
    "from sklearn.preprocessing import StandardScaler\n",
    "scaler = StandardScaler()\n",
    "x_train = pd.DataFrame(scaler.fit_transform(x_train), columns=x_train.columns)\n",
    "x_test = pd.DataFrame(scaler.fit_transform(x_test), columns=x_test.columns)"
   ]
  },
  {
   "cell_type": "markdown",
   "id": "9d90e83a",
   "metadata": {},
   "source": [
    "## Feature Selection (Round 2)\n",
    "In this section I will create a Random Forest Classifier and examine the model's most important features so that I can gain insight into which features are most important in predicting income level."
   ]
  },
  {
   "cell_type": "code",
   "execution_count": 14,
   "id": "7d17432d",
   "metadata": {},
   "outputs": [],
   "source": [
    "from sklearn.ensemble import RandomForestClassifier"
   ]
  },
  {
   "cell_type": "code",
   "execution_count": 15,
   "id": "ec62318d",
   "metadata": {},
   "outputs": [
    {
     "name": "stderr",
     "output_type": "stream",
     "text": [
      "[Parallel(n_jobs=1)]: Using backend SequentialBackend with 1 concurrent workers.\n",
      "[Parallel(n_jobs=1)]: Done 100 out of 100 | elapsed:    2.1s finished\n"
     ]
    },
    {
     "data": {
      "text/plain": [
       "RandomForestClassifier(verbose=1)"
      ]
     },
     "execution_count": 15,
     "metadata": {},
     "output_type": "execute_result"
    }
   ],
   "source": [
    "rf_model = RandomForestClassifier(verbose=1)\n",
    "rf_model.fit(x_train, y_train)"
   ]
  },
  {
   "cell_type": "code",
   "execution_count": 16,
   "id": "faac6042",
   "metadata": {},
   "outputs": [
    {
     "data": {
      "text/html": [
       "<div>\n",
       "<style scoped>\n",
       "    .dataframe tbody tr th:only-of-type {\n",
       "        vertical-align: middle;\n",
       "    }\n",
       "\n",
       "    .dataframe tbody tr th {\n",
       "        vertical-align: top;\n",
       "    }\n",
       "\n",
       "    .dataframe thead th {\n",
       "        text-align: right;\n",
       "    }\n",
       "</style>\n",
       "<table border=\"1\" class=\"dataframe\">\n",
       "  <thead>\n",
       "    <tr style=\"text-align: right;\">\n",
       "      <th></th>\n",
       "      <th>importance</th>\n",
       "    </tr>\n",
       "  </thead>\n",
       "  <tbody>\n",
       "    <tr>\n",
       "      <th>fnlwgt</th>\n",
       "      <td>0.169134</td>\n",
       "    </tr>\n",
       "    <tr>\n",
       "      <th>age</th>\n",
       "      <td>0.150419</td>\n",
       "    </tr>\n",
       "    <tr>\n",
       "      <th>education-num</th>\n",
       "      <td>0.112025</td>\n",
       "    </tr>\n",
       "    <tr>\n",
       "      <th>capital-gain</th>\n",
       "      <td>0.101836</td>\n",
       "    </tr>\n",
       "    <tr>\n",
       "      <th>marital-status_ married-civ-spouse</th>\n",
       "      <td>0.085039</td>\n",
       "    </tr>\n",
       "    <tr>\n",
       "      <th>hours-per-week</th>\n",
       "      <td>0.080934</td>\n",
       "    </tr>\n",
       "    <tr>\n",
       "      <th>relationship_ husband</th>\n",
       "      <td>0.044392</td>\n",
       "    </tr>\n",
       "    <tr>\n",
       "      <th>capital-loss</th>\n",
       "      <td>0.032802</td>\n",
       "    </tr>\n",
       "    <tr>\n",
       "      <th>occupation_ exec-managerial</th>\n",
       "      <td>0.020354</td>\n",
       "    </tr>\n",
       "    <tr>\n",
       "      <th>marital-status_ never-married</th>\n",
       "      <td>0.020304</td>\n",
       "    </tr>\n",
       "  </tbody>\n",
       "</table>\n",
       "</div>"
      ],
      "text/plain": [
       "                                    importance\n",
       "fnlwgt                                0.169134\n",
       "age                                   0.150419\n",
       "education-num                         0.112025\n",
       "capital-gain                          0.101836\n",
       "marital-status_ married-civ-spouse    0.085039\n",
       "hours-per-week                        0.080934\n",
       "relationship_ husband                 0.044392\n",
       "capital-loss                          0.032802\n",
       "occupation_ exec-managerial           0.020354\n",
       "marital-status_ never-married         0.020304"
      ]
     },
     "execution_count": 16,
     "metadata": {},
     "output_type": "execute_result"
    }
   ],
   "source": [
    "feature_importances = pd.DataFrame(rf_model.feature_importances_, index = x_train.columns,\n",
    "                                    columns=['importance']).sort_values('importance', ascending=False)\n",
    "feature_importances[:10]"
   ]
  },
  {
   "cell_type": "code",
   "execution_count": 17,
   "id": "4c490da3",
   "metadata": {},
   "outputs": [
    {
     "name": "stderr",
     "output_type": "stream",
     "text": [
      "[Parallel(n_jobs=1)]: Using backend SequentialBackend with 1 concurrent workers.\n"
     ]
    },
    {
     "name": "stdout",
     "output_type": "stream",
     "text": [
      "Testing accuracy: 0.8514219028315214\n"
     ]
    },
    {
     "name": "stderr",
     "output_type": "stream",
     "text": [
      "[Parallel(n_jobs=1)]: Done 100 out of 100 | elapsed:    0.2s finished\n"
     ]
    }
   ],
   "source": [
    "print(\"Testing accuracy: {}\".format(rf_model.score(x_test, y_test)))"
   ]
  },
  {
   "cell_type": "code",
   "execution_count": 18,
   "id": "b60d9858",
   "metadata": {},
   "outputs": [],
   "source": [
    "# removing columns that are not detected as important according to our decision tree\n",
    "x_train = x_train.drop(list(feature_importances.importance[-10:].index), axis=1)\n",
    "x_test = x_test.drop(list(feature_importances.importance[-10:].index), axis=1)\n",
    "# print(x_train.shape)"
   ]
  },
  {
   "cell_type": "code",
   "execution_count": 19,
   "id": "2415a80e",
   "metadata": {},
   "outputs": [
    {
     "name": "stdout",
     "output_type": "stream",
     "text": [
      "(32561, 40)\n"
     ]
    }
   ],
   "source": [
    "print(x_train.shape)"
   ]
  },
  {
   "cell_type": "markdown",
   "id": "91645b68",
   "metadata": {},
   "source": [
    "## Class Rebalancing"
   ]
  },
  {
   "cell_type": "code",
   "execution_count": null,
   "id": "ef78e6bb",
   "metadata": {},
   "outputs": [],
   "source": [
    "# #combine them back for resampling\n",
    "# from sklearn.utils import resample\n",
    "\n",
    "# train_data = pd.concat([x_train, y_train], axis=1)\n",
    "# negative = train_data[train_data['class']==0]\n",
    "# positive = train_data[train_data['class']==1]\n",
    "# # downsample majority\n",
    "# neg_downsampled = resample(negative,\n",
    "#  replace=True, # sample with replacement\n",
    "#  n_samples=len(positive), # match number in minority class\n",
    "#  random_state=27) # reproducible results\n",
    "# # combine minority and downsampled majority\n",
    "# downsampled = pd.concat([positive, neg_downsampled])\n",
    "# # check new class counts\n",
    "# downsampled['class'].value_counts()"
   ]
  },
  {
   "cell_type": "code",
   "execution_count": null,
   "id": "2fc4bb70",
   "metadata": {},
   "outputs": [],
   "source": [
    "# y_train = downsampled['class']\n",
    "# x_train = downsampled.drop(['class'], axis=1)"
   ]
  },
  {
   "cell_type": "markdown",
   "id": "0c1218e2",
   "metadata": {},
   "source": [
    "## Creating Neural Network for Income Prediction"
   ]
  },
  {
   "cell_type": "code",
   "execution_count": 20,
   "id": "aa2d6a48",
   "metadata": {},
   "outputs": [],
   "source": [
    "from keras.layers import Dense\n",
    "from keras.models import Sequential\n",
    "from keras.layers import Flatten\n",
    "from keras.layers import Dropout\n",
    "from keras.layers import Activation"
   ]
  },
  {
   "cell_type": "code",
   "execution_count": 21,
   "id": "3e4ad80c",
   "metadata": {},
   "outputs": [],
   "source": [
    "class NeuralNet(object):\n",
    "    def __init__(self, epochs, num_classes, input_dim):\n",
    "        self.epochs = epochs\n",
    "        self.num_classes = num_classes\n",
    "        self.input_dim = input_dim\n",
    "        self.model = None\n",
    "        \n",
    "    def forward(self):\n",
    "        self.model = Sequential()\n",
    "        self.model.add(Dense(64, activation='relu', kernel_initializer='uniform', input_dim = input_dim)) \n",
    "        #self.model.add(Dropout(0.1))\n",
    "        self.model.add(Dense(32, kernel_initializer='uniform', activation='relu'))\n",
    "        self.model.add(Dense(8, kernel_initializer='uniform', activation='relu'))\n",
    "        self.model.add(Dense(self.num_classes, kernel_initializer='uniform', activation='sigmoid'))\n",
    "    \n",
    "    def build(self):\n",
    "        self.model.compile(loss='binary_crossentropy', optimizer='sgd', metrics=['acc'])"
   ]
  },
  {
   "cell_type": "code",
   "execution_count": 22,
   "id": "e022d3a6",
   "metadata": {},
   "outputs": [
    {
     "name": "stdout",
     "output_type": "stream",
     "text": [
      "Model: \"sequential\"\n",
      "_________________________________________________________________\n",
      " Layer (type)                Output Shape              Param #   \n",
      "=================================================================\n",
      " dense (Dense)               (None, 64)                2624      \n",
      "                                                                 \n",
      " dense_1 (Dense)             (None, 32)                2080      \n",
      "                                                                 \n",
      " dense_2 (Dense)             (None, 8)                 264       \n",
      "                                                                 \n",
      " dense_3 (Dense)             (None, 1)                 9         \n",
      "                                                                 \n",
      "=================================================================\n",
      "Total params: 4,977\n",
      "Trainable params: 4,977\n",
      "Non-trainable params: 0\n",
      "_________________________________________________________________\n"
     ]
    },
    {
     "name": "stderr",
     "output_type": "stream",
     "text": [
      "2021-12-13 18:35:24.439426: I tensorflow/core/platform/cpu_feature_guard.cc:151] This TensorFlow binary is optimized with oneAPI Deep Neural Network Library (oneDNN) to use the following CPU instructions in performance-critical operations:  AVX2 FMA\n",
      "To enable them in other operations, rebuild TensorFlow with the appropriate compiler flags.\n"
     ]
    }
   ],
   "source": [
    "epochs=100\n",
    "input_dim = x_train.shape[1]\n",
    "num_classes = 1\n",
    "\n",
    "nn = NeuralNet(epochs, num_classes, input_dim)\n",
    "nn.forward(); nn.build()\n",
    "nn.model.summary()"
   ]
  },
  {
   "cell_type": "code",
   "execution_count": 23,
   "id": "be74a512",
   "metadata": {},
   "outputs": [
    {
     "name": "stdout",
     "output_type": "stream",
     "text": [
      "Epoch 1/100\n",
      "6513/6513 [==============================] - 4s 592us/step - loss: 0.5574 - acc: 0.7591\n",
      "Epoch 2/100\n",
      "6513/6513 [==============================] - 4s 557us/step - loss: 0.5500 - acc: 0.7592\n",
      "Epoch 3/100\n",
      "6513/6513 [==============================] - 4s 555us/step - loss: 0.3582 - acc: 0.8351\n",
      "Epoch 4/100\n",
      "6513/6513 [==============================] - 4s 602us/step - loss: 0.3181 - acc: 0.8510\n",
      "Epoch 5/100\n",
      "6513/6513 [==============================] - 4s 581us/step - loss: 0.3121 - acc: 0.8545\n",
      "Epoch 6/100\n",
      "6513/6513 [==============================] - 4s 592us/step - loss: 0.3087 - acc: 0.8551\n",
      "Epoch 7/100\n",
      "6513/6513 [==============================] - 4s 568us/step - loss: 0.3076 - acc: 0.8558\n",
      "Epoch 8/100\n",
      "6513/6513 [==============================] - 4s 563us/step - loss: 0.3055 - acc: 0.8573\n",
      "Epoch 9/100\n",
      "6513/6513 [==============================] - 4s 570us/step - loss: 0.3043 - acc: 0.8585\n",
      "Epoch 10/100\n",
      "6513/6513 [==============================] - 4s 594us/step - loss: 0.3030 - acc: 0.8589\n",
      "Epoch 11/100\n",
      "6513/6513 [==============================] - 4s 597us/step - loss: 0.3020 - acc: 0.8597\n",
      "Epoch 12/100\n",
      "6513/6513 [==============================] - 4s 559us/step - loss: 0.3016 - acc: 0.8598\n",
      "Epoch 13/100\n",
      "6513/6513 [==============================] - 4s 558us/step - loss: 0.3004 - acc: 0.8612\n",
      "Epoch 14/100\n",
      "6513/6513 [==============================] - 4s 571us/step - loss: 0.2996 - acc: 0.8615\n",
      "Epoch 15/100\n",
      "6513/6513 [==============================] - 4s 579us/step - loss: 0.2997 - acc: 0.8604\n",
      "Epoch 16/100\n",
      "6513/6513 [==============================] - 4s 557us/step - loss: 0.2985 - acc: 0.8606\n",
      "Epoch 17/100\n",
      "6513/6513 [==============================] - 4s 615us/step - loss: 0.2979 - acc: 0.8607\n",
      "Epoch 18/100\n",
      "6513/6513 [==============================] - 4s 560us/step - loss: 0.2972 - acc: 0.8632\n",
      "Epoch 19/100\n",
      "6513/6513 [==============================] - 4s 561us/step - loss: 0.2965 - acc: 0.8627\n",
      "Epoch 20/100\n",
      "6513/6513 [==============================] - 4s 564us/step - loss: 0.2957 - acc: 0.8640\n",
      "Epoch 21/100\n",
      "6513/6513 [==============================] - 4s 577us/step - loss: 0.2956 - acc: 0.8641\n",
      "Epoch 22/100\n",
      "6513/6513 [==============================] - 4s 566us/step - loss: 0.2948 - acc: 0.8624\n",
      "Epoch 23/100\n",
      "6513/6513 [==============================] - 4s 567us/step - loss: 0.2946 - acc: 0.8644\n",
      "Epoch 24/100\n",
      "6513/6513 [==============================] - 4s 571us/step - loss: 0.2937 - acc: 0.8633\n",
      "Epoch 25/100\n",
      "6513/6513 [==============================] - 4s 572us/step - loss: 0.2930 - acc: 0.8630\n",
      "Epoch 26/100\n",
      "6513/6513 [==============================] - 4s 566us/step - loss: 0.2928 - acc: 0.8647\n",
      "Epoch 27/100\n",
      "6513/6513 [==============================] - 4s 585us/step - loss: 0.2922 - acc: 0.8635\n",
      "Epoch 28/100\n",
      "6513/6513 [==============================] - 4s 595us/step - loss: 0.2911 - acc: 0.8650\n",
      "Epoch 29/100\n",
      "6513/6513 [==============================] - 4s 594us/step - loss: 0.2904 - acc: 0.8653\n",
      "Epoch 30/100\n",
      "6513/6513 [==============================] - 4s 599us/step - loss: 0.2907 - acc: 0.8647\n",
      "Epoch 31/100\n",
      "6513/6513 [==============================] - 4s 587us/step - loss: 0.2901 - acc: 0.8649\n",
      "Epoch 32/100\n",
      "6513/6513 [==============================] - 4s 609us/step - loss: 0.2897 - acc: 0.8645\n",
      "Epoch 33/100\n",
      "6513/6513 [==============================] - 4s 589us/step - loss: 0.2894 - acc: 0.8645\n",
      "Epoch 34/100\n",
      "6513/6513 [==============================] - 4s 591us/step - loss: 0.2888 - acc: 0.8667\n",
      "Epoch 35/100\n",
      "6513/6513 [==============================] - 4s 604us/step - loss: 0.2883 - acc: 0.8659\n",
      "Epoch 36/100\n",
      "6513/6513 [==============================] - 4s 612us/step - loss: 0.2877 - acc: 0.8665\n",
      "Epoch 37/100\n",
      "6513/6513 [==============================] - 4s 608us/step - loss: 0.2870 - acc: 0.8675\n",
      "Epoch 38/100\n",
      "6513/6513 [==============================] - 4s 577us/step - loss: 0.2865 - acc: 0.8674\n",
      "Epoch 39/100\n",
      "6513/6513 [==============================] - 4s 564us/step - loss: 0.2863 - acc: 0.8672\n",
      "Epoch 40/100\n",
      "6513/6513 [==============================] - 4s 574us/step - loss: 0.2853 - acc: 0.8668\n",
      "Epoch 41/100\n",
      "6513/6513 [==============================] - 4s 571us/step - loss: 0.2853 - acc: 0.8670\n",
      "Epoch 42/100\n",
      "6513/6513 [==============================] - 4s 596us/step - loss: 0.2849 - acc: 0.8674\n",
      "Epoch 43/100\n",
      "6513/6513 [==============================] - 4s 590us/step - loss: 0.2844 - acc: 0.8686\n",
      "Epoch 44/100\n",
      "6513/6513 [==============================] - 4s 584us/step - loss: 0.2836 - acc: 0.8682\n",
      "Epoch 45/100\n",
      "6513/6513 [==============================] - 4s 568us/step - loss: 0.2836 - acc: 0.8676\n",
      "Epoch 46/100\n",
      "6513/6513 [==============================] - 4s 582us/step - loss: 0.2826 - acc: 0.8685\n",
      "Epoch 47/100\n",
      "6513/6513 [==============================] - 4s 627us/step - loss: 0.2825 - acc: 0.8706\n",
      "Epoch 48/100\n",
      "6513/6513 [==============================] - 4s 629us/step - loss: 0.2819 - acc: 0.8682\n",
      "Epoch 49/100\n",
      "6513/6513 [==============================] - 4s 621us/step - loss: 0.2808 - acc: 0.8703\n",
      "Epoch 50/100\n",
      "6513/6513 [==============================] - 4s 629us/step - loss: 0.2803 - acc: 0.8694\n",
      "Epoch 51/100\n",
      "6513/6513 [==============================] - 4s 622us/step - loss: 0.2800 - acc: 0.8706\n",
      "Epoch 52/100\n",
      "6513/6513 [==============================] - 4s 608us/step - loss: 0.2794 - acc: 0.8708\n",
      "Epoch 53/100\n",
      "6513/6513 [==============================] - 4s 604us/step - loss: 0.2790 - acc: 0.8697\n",
      "Epoch 54/100\n",
      "6513/6513 [==============================] - 4s 597us/step - loss: 0.2790 - acc: 0.8707\n",
      "Epoch 55/100\n",
      "6513/6513 [==============================] - 4s 596us/step - loss: 0.2774 - acc: 0.8703\n",
      "Epoch 56/100\n",
      "6513/6513 [==============================] - 4s 607us/step - loss: 0.2771 - acc: 0.8705\n",
      "Epoch 57/100\n",
      "6513/6513 [==============================] - 4s 603us/step - loss: 0.2766 - acc: 0.8709\n",
      "Epoch 58/100\n",
      "6513/6513 [==============================] - 4s 605us/step - loss: 0.2754 - acc: 0.8713\n",
      "Epoch 59/100\n",
      "6513/6513 [==============================] - 4s 612us/step - loss: 0.2756 - acc: 0.8711\n",
      "Epoch 60/100\n",
      "6513/6513 [==============================] - 4s 607us/step - loss: 0.2747 - acc: 0.8714\n",
      "Epoch 61/100\n",
      "6513/6513 [==============================] - 4s 599us/step - loss: 0.2741 - acc: 0.8718\n",
      "Epoch 62/100\n",
      "6513/6513 [==============================] - 4s 628us/step - loss: 0.2736 - acc: 0.8731\n",
      "Epoch 63/100\n",
      "6513/6513 [==============================] - 4s 622us/step - loss: 0.2732 - acc: 0.8728\n",
      "Epoch 64/100\n",
      "6513/6513 [==============================] - 4s 615us/step - loss: 0.2721 - acc: 0.8737\n",
      "Epoch 65/100\n",
      "6513/6513 [==============================] - 4s 605us/step - loss: 0.2719 - acc: 0.8726\n",
      "Epoch 66/100\n",
      "6513/6513 [==============================] - 4s 616us/step - loss: 0.2715 - acc: 0.8749\n",
      "Epoch 67/100\n",
      "6513/6513 [==============================] - 4s 633us/step - loss: 0.2704 - acc: 0.8747\n",
      "Epoch 68/100\n",
      "6513/6513 [==============================] - 4s 613us/step - loss: 0.2703 - acc: 0.8744\n",
      "Epoch 69/100\n",
      "6513/6513 [==============================] - 4s 617us/step - loss: 0.2698 - acc: 0.8745\n",
      "Epoch 70/100\n",
      "6513/6513 [==============================] - 4s 624us/step - loss: 0.2686 - acc: 0.8764\n",
      "Epoch 71/100\n",
      "6513/6513 [==============================] - 4s 625us/step - loss: 0.2679 - acc: 0.8746\n",
      "Epoch 72/100\n",
      "6513/6513 [==============================] - 4s 621us/step - loss: 0.2666 - acc: 0.8761\n",
      "Epoch 73/100\n",
      "6513/6513 [==============================] - 4s 622us/step - loss: 0.2665 - acc: 0.8742\n",
      "Epoch 74/100\n",
      "6513/6513 [==============================] - 4s 625us/step - loss: 0.2662 - acc: 0.8762\n",
      "Epoch 75/100\n",
      "6513/6513 [==============================] - 4s 633us/step - loss: 0.2656 - acc: 0.8755\n",
      "Epoch 76/100\n",
      "6513/6513 [==============================] - 4s 625us/step - loss: 0.2642 - acc: 0.8773\n",
      "Epoch 77/100\n",
      "6513/6513 [==============================] - 4s 619us/step - loss: 0.2642 - acc: 0.8780\n",
      "Epoch 78/100\n",
      "6513/6513 [==============================] - 4s 610us/step - loss: 0.2634 - acc: 0.8780\n",
      "Epoch 79/100\n",
      "6513/6513 [==============================] - 4s 605us/step - loss: 0.2630 - acc: 0.8762\n",
      "Epoch 80/100\n",
      "6513/6513 [==============================] - 4s 608us/step - loss: 0.2618 - acc: 0.8771\n",
      "Epoch 81/100\n",
      "6513/6513 [==============================] - 4s 617us/step - loss: 0.2610 - acc: 0.8786\n",
      "Epoch 82/100\n"
     ]
    },
    {
     "name": "stdout",
     "output_type": "stream",
     "text": [
      "6513/6513 [==============================] - 4s 612us/step - loss: 0.2609 - acc: 0.8782\n",
      "Epoch 83/100\n",
      "6513/6513 [==============================] - 4s 620us/step - loss: 0.2604 - acc: 0.8789\n",
      "Epoch 84/100\n",
      "6513/6513 [==============================] - 4s 621us/step - loss: 0.2601 - acc: 0.8779\n",
      "Epoch 85/100\n",
      "6513/6513 [==============================] - 4s 610us/step - loss: 0.2587 - acc: 0.8798\n",
      "Epoch 86/100\n",
      "6513/6513 [==============================] - 4s 617us/step - loss: 0.2581 - acc: 0.8806\n",
      "Epoch 87/100\n",
      "6513/6513 [==============================] - 4s 604us/step - loss: 0.2578 - acc: 0.8797\n",
      "Epoch 88/100\n",
      "6513/6513 [==============================] - 4s 611us/step - loss: 0.2569 - acc: 0.8799\n",
      "Epoch 89/100\n",
      "6513/6513 [==============================] - 4s 613us/step - loss: 0.2567 - acc: 0.8797\n",
      "Epoch 90/100\n",
      "6513/6513 [==============================] - 4s 609us/step - loss: 0.2555 - acc: 0.8798\n",
      "Epoch 91/100\n",
      "6513/6513 [==============================] - 4s 623us/step - loss: 0.2556 - acc: 0.8795\n",
      "Epoch 92/100\n",
      "6513/6513 [==============================] - 4s 611us/step - loss: 0.2555 - acc: 0.8803\n",
      "Epoch 93/100\n",
      "6513/6513 [==============================] - 4s 614us/step - loss: 0.2541 - acc: 0.8815\n",
      "Epoch 94/100\n",
      "6513/6513 [==============================] - 4s 630us/step - loss: 0.2535 - acc: 0.8813\n",
      "Epoch 95/100\n",
      "6513/6513 [==============================] - 4s 614us/step - loss: 0.2533 - acc: 0.8815\n",
      "Epoch 96/100\n",
      "6513/6513 [==============================] - 4s 614us/step - loss: 0.2529 - acc: 0.8819\n",
      "Epoch 97/100\n",
      "6513/6513 [==============================] - 4s 614us/step - loss: 0.2521 - acc: 0.8831\n",
      "Epoch 98/100\n",
      "6513/6513 [==============================] - 4s 622us/step - loss: 0.2516 - acc: 0.8833\n",
      "Epoch 99/100\n",
      "6513/6513 [==============================] - 4s 608us/step - loss: 0.2496 - acc: 0.8847\n",
      "Epoch 100/100\n",
      "6513/6513 [==============================] - 4s 622us/step - loss: 0.2502 - acc: 0.8832\n"
     ]
    }
   ],
   "source": [
    "model_history = nn.model.fit(x_train, y_train,\n",
    "                    batch_size=5,\n",
    "                    epochs=epochs,\n",
    "                    verbose=1)"
   ]
  },
  {
   "cell_type": "code",
   "execution_count": 24,
   "id": "c3f72115",
   "metadata": {},
   "outputs": [
    {
     "name": "stderr",
     "output_type": "stream",
     "text": [
      "2021-12-13 18:41:55.549134: W tensorflow/python/util/util.cc:368] Sets are not currently considered sequences, but this may change in the future, so consider avoiding using them.\n"
     ]
    },
    {
     "name": "stdout",
     "output_type": "stream",
     "text": [
      "INFO:tensorflow:Assets written to: models/assets\n"
     ]
    }
   ],
   "source": [
    "nn.model.save('models/')"
   ]
  },
  {
   "cell_type": "markdown",
   "id": "27cc98e2",
   "metadata": {},
   "source": [
    "## Evaluation\n",
    "I will now evaluate the performance of my model using the following metrics:\n",
    "- Accuracy\n",
    "- ROC curve (and AUROC)\n",
    "- Confusion Matrix"
   ]
  },
  {
   "cell_type": "code",
   "execution_count": 25,
   "id": "975ad643",
   "metadata": {},
   "outputs": [],
   "source": [
    "from sklearn.metrics import roc_curve, auc, confusion_matrix, RocCurveDisplay"
   ]
  },
  {
   "cell_type": "markdown",
   "id": "090363ff",
   "metadata": {},
   "source": [
    "### Accuracy"
   ]
  },
  {
   "cell_type": "code",
   "execution_count": 26,
   "id": "263f28d9",
   "metadata": {},
   "outputs": [
    {
     "name": "stdout",
     "output_type": "stream",
     "text": [
      "1018/1018 [==============================] - 1s 487us/step - loss: 0.2410 - acc: 0.8905\n",
      "Training accuracy: 0.8905131816864014\n",
      "509/509 [==============================] - 0s 483us/step - loss: 0.3556 - acc: 0.8384\n",
      "Testing accuracy: 0.8384006023406982\n"
     ]
    }
   ],
   "source": [
    "print(\"Training accuracy: {}\".format(nn.model.evaluate(x_train, y_train)[1]))\n",
    "print(\"Testing accuracy: {}\".format(nn.model.evaluate(x_test, y_test)[1]))"
   ]
  },
  {
   "cell_type": "markdown",
   "id": "22e87613",
   "metadata": {},
   "source": [
    "### AUROC curve"
   ]
  },
  {
   "cell_type": "code",
   "execution_count": 27,
   "id": "a7c976c0",
   "metadata": {},
   "outputs": [],
   "source": [
    "def plot_roc_curve(fpr, tpr, roc_auc, save=False):\n",
    "    '''\n",
    "    Plots the ROC curve comparing the TPR to the FPR\n",
    "    '''\n",
    "    plt.figure(dpi=100)\n",
    "    plt.plot(fpr, tpr, lw=1, color='green', label=f'AUC = {roc_auc:.3f}')\n",
    "    plt.title('ROC Curve for Neural Network classifier')\n",
    "    plt.xlabel('False Positive Rate')\n",
    "    plt.ylabel('True Positive Rate (Recall)')\n",
    "    plt.xlim([-0.05, 1.05]); plt.ylim([-0.05, 1.05])\n",
    "    plt.plot(np.linspace(0, 1, 100), np.linspace(0, 1, 100), label='baseline', linestyle='--', color='red')\n",
    "    plt.legend()\n",
    "    \n",
    "    if save: plt.savefig('roc_curve.png', bbox_inches='tight')\n",
    "    plt.show()"
   ]
  },
  {
   "cell_type": "code",
   "execution_count": 28,
   "id": "fe24e148",
   "metadata": {},
   "outputs": [
    {
     "data": {
      "image/png": "[encoded data removed]",
      "text/plain": [
       "<Figure size 600x400 with 1 Axes>"
      ]
     },
     "metadata": {
      "needs_background": "light"
     },
     "output_type": "display_data"
    }
   ],
   "source": [
    "# get fpr and tpr\n",
    "fpr, tpr, thresholds = roc_curve(y_test, nn.model.predict(x_test), pos_label=1)\n",
    "# gets area under the curve (will be plotted in legend)\n",
    "roc_auc = auc(fpr, tpr)\n",
    "plot_roc_curve(fpr, tpr, roc_auc)"
   ]
  },
  {
   "cell_type": "markdown",
   "id": "788fcb2d",
   "metadata": {},
   "source": [
    "### Confusion Matrix"
   ]
  },
  {
   "cell_type": "code",
   "execution_count": 29,
   "id": "97be6317",
   "metadata": {},
   "outputs": [],
   "source": [
    "def plot_confusion_matrix(c_matrix, save=False):\n",
    "    plt.figure(figsize=(10, 8))\n",
    "    ax = sns.heatmap(c_matrix, annot=True, cmap='Blues', annot_kws={\"fontsize\":18}, fmt='.1f',\n",
    "                    xticklabels=['<=50k', '>50k'], yticklabels=['<=50k', '>50k'])\n",
    "    ax.set_xlabel(\"Predicted\", fontsize=20)\n",
    "    ax.set_ylabel(\"True Label\", fontsize=20)\n",
    "    ax.tick_params(axis='both', which='major', labelsize=16)\n",
    "    ax.xaxis.tick_top() # x axis on top\n",
    "    ax.xaxis.set_label_position('top')\n",
    "    for t in ax.texts: t.set_text(t.get_text() + \"%\")\n",
    "    if save: plt.savefig('cm.png', bbox_inches='tight')\n",
    "    plt.show()"
   ]
  },
  {
   "cell_type": "code",
   "execution_count": 30,
   "id": "3f83c29f",
   "metadata": {},
   "outputs": [
    {
     "data": {
      "image/png": "[encoded data removed]",
      "text/plain": [
       "<Figure size 720x576 with 2 Axes>"
      ]
     },
     "metadata": {
      "needs_background": "light"
     },
     "output_type": "display_data"
    }
   ],
   "source": [
    "# TO DO: plot the actual label names (<50k, >50k)\n",
    "y_test_pred = (nn.model.predict(x_test) > 0.5).astype(\"float\")\n",
    "cm = confusion_matrix(y_test, y_test_pred, normalize='true')*100\n",
    "plot_confusion_matrix(cm)"
   ]
  },
  {
   "cell_type": "markdown",
   "id": "745a1066",
   "metadata": {},
   "source": [
    "# Takeaways\n",
    "- Model achieved ~84% accuracy on test set and predicted more False Negatives (<=50k) than False Positives (>50k), which wa\n",
    "- Before feature engineering, selection, and cleaning I was achieving ~70% accuracy on the test set\n",
    "- Future improvments can utilize feature engineering to transform / create new features relevant to the data\n",
    "- Perform feature selection algorithmically instead of arbitrarily as I did\n",
    "- Hyperparameter tuning\n",
    "- Add more layers to the network to handle the complexity of the data better"
   ]
  },
  {
   "cell_type": "code",
   "execution_count": null,
   "id": "e9b2ba94",
   "metadata": {},
   "outputs": [],
   "source": []
  }
 ],
 "metadata": {
  "kernelspec": {
   "display_name": "income_pred",
   "language": "python",
   "name": "income_pred"
  },
  "language_info": {
   "codemirror_mode": {
    "name": "ipython",
    "version": 3
   },
   "file_extension": ".py",
   "mimetype": "text/x-python",
   "name": "python",
   "nbconvert_exporter": "python",
   "pygments_lexer": "ipython3",
   "version": "3.7.7"
  }
 },
 "nbformat": 4,
 "nbformat_minor": 5
}
