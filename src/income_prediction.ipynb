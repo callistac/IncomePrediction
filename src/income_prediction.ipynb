{
 "cells": [
  {
   "cell_type": "markdown",
   "id": "e2af1096",
   "metadata": {},
   "source": [
    "# Income Predictor\n",
    "**Goal: Create a model that can predict whether someone makes over 50k or below 50k**\n",
    "\n",
    "Technique\n",
    "- Feature Engineering\n",
    "- Feature Selection\n",
    "- Create neural network\n",
    "- Evaluate model"
   ]
  },
  {
   "cell_type": "code",
   "execution_count": 1,
   "id": "fb8e0710",
   "metadata": {},
   "outputs": [],
   "source": [
    "import pandas as pd\n",
    "import numpy as np\n",
    "import sklearn\n",
    "import keras\n",
    "import tensorflow as tf\n",
    "import matplotlib.pyplot as plt\n",
    "import seaborn as sns\n",
    "import warnings\n",
    "from utils import *\n",
    "from sklearn.preprocessing import OneHotEncoder, LabelBinarizer\n",
    "warnings.filterwarnings(\"ignore\") "
   ]
  },
  {
   "cell_type": "code",
   "execution_count": 2,
   "id": "ccffe116",
   "metadata": {},
   "outputs": [],
   "source": [
    "# load data for training and testing\n",
    "df_train = load_data('../data/au_train.csv')\n",
    "df_test = load_data('../data/au_test.csv')"
   ]
  },
  {
   "cell_type": "markdown",
   "id": "f1b9d690",
   "metadata": {},
   "source": [
    "## Feature Engineering\n",
    "- One hot encode all categorical features\n",
    "- Limit native-country feature to U.S. and non-U.S. and one hot encode\n",
    "- Binarize labels\n",
    "- Standardize features"
   ]
  },
  {
   "cell_type": "code",
   "execution_count": 3,
   "id": "5a8c25c7",
   "metadata": {},
   "outputs": [],
   "source": [
    "df_train['US'] = df_train['native-country'] == ' United-States'\n",
    "df_train = df_train.drop(['native-country'], axis=1)\n",
    "\n",
    "df_test['US'] = df_test['native-country'] == ' United-States'\n",
    "df_test = df_test.drop(['native-country'], axis=1)"
   ]
  },
  {
   "cell_type": "code",
   "execution_count": 4,
   "id": "e0bbc193",
   "metadata": {},
   "outputs": [
    {
     "name": "stdout",
     "output_type": "stream",
     "text": [
      "   age          workclass  fnlwgt   education  education-num  \\\n",
      "0   39          State-gov   77516   Bachelors             13   \n",
      "1   50   Self-emp-not-inc   83311   Bachelors             13   \n",
      "2   38            Private  215646     HS-grad              9   \n",
      "3   53            Private  234721        11th              7   \n",
      "4   28            Private  338409   Bachelors             13   \n",
      "\n",
      "        marital-status          occupation    relationship    race      sex  \\\n",
      "0        Never-married        Adm-clerical   Not-in-family   White     Male   \n",
      "1   Married-civ-spouse     Exec-managerial         Husband   White     Male   \n",
      "2             Divorced   Handlers-cleaners   Not-in-family   White     Male   \n",
      "3   Married-civ-spouse   Handlers-cleaners         Husband   Black     Male   \n",
      "4   Married-civ-spouse      Prof-specialty            Wife   Black   Female   \n",
      "\n",
      "   capital-gain  capital-loss  hours-per-week   class     US  \n",
      "0          2174             0              40   <=50K   True  \n",
      "1             0             0              13   <=50K   True  \n",
      "2             0             0              40   <=50K   True  \n",
      "3             0             0              40   <=50K   True  \n",
      "4             0             0              40   <=50K  False  \n"
     ]
    }
   ],
   "source": [
    "print(df_train.head())"
   ]
  },
  {
   "cell_type": "code",
   "execution_count": 5,
   "id": "9d51d075",
   "metadata": {},
   "outputs": [],
   "source": [
    "def one_hot_encode(df, columns):\n",
    "    '''\n",
    "    Handles categorical inputs by creating a binary feature for each possible category,\n",
    "    assigning a value of 1 for the feature that corresponds to the original category and 0\n",
    "    for the remaining\n",
    "    '''\n",
    "    return pd.get_dummies(df, columns=columns)"
   ]
  },
  {
   "cell_type": "code",
   "execution_count": 6,
   "id": "68a8b54c",
   "metadata": {},
   "outputs": [],
   "source": [
    "def binarize_lbls(labels):\n",
    "    '''\n",
    "    Binarizes dependent variables (0 and 1)\n",
    "    '''\n",
    "    lb = LabelBinarizer()\n",
    "    return pd.DataFrame(lb.fit_transform(labels), columns=['class'])"
   ]
  },
  {
   "cell_type": "code",
   "execution_count": 7,
   "id": "74bc1af2",
   "metadata": {},
   "outputs": [],
   "source": [
    "# converting categorical values to numerical values\n",
    "categorical_columns = ['workclass', 'education', 'marital-status',\\\n",
    "                       'relationship', 'race', 'sex', 'US', 'occupation']\n",
    "df_train_encoded = one_hot_encode(df_train, categorical_columns)\n",
    "df_train_encoded.columns = map(str.lower, df_train_encoded.columns)\n",
    "\n",
    "df_test_encoded = one_hot_encode(df_test, categorical_columns)\n",
    "df_test_encoded.columns = map(str.lower, df_test_encoded.columns)\n",
    "\n",
    "# dropping labels from feature set\n",
    "x_train = df_train_encoded.drop(['class'], axis=1)\n",
    "x_test = df_test_encoded.drop(['class'], axis=1)"
   ]
  },
  {
   "cell_type": "code",
   "execution_count": 8,
   "id": "c849aebe",
   "metadata": {},
   "outputs": [],
   "source": [
    "lb = LabelBinarizer()\n",
    "y_train = pd.DataFrame(lb.fit_transform(df_train['class']), columns=['class'])\n",
    "y_test = pd.DataFrame(lb.fit_transform(df_test['class']), columns=['class'])"
   ]
  },
  {
   "cell_type": "code",
   "execution_count": 9,
   "id": "5e75faed",
   "metadata": {},
   "outputs": [],
   "source": [
    "# In the test set, there is no one that is from Holand-Netherlands and that is throwing the model off because this existed in training\n",
    "# Adding this column to the x_test\n",
    "#x_test['native-country_ holand-netherlands'] = 0"
   ]
  },
  {
   "cell_type": "code",
   "execution_count": 11,
   "id": "292a87fb",
   "metadata": {},
   "outputs": [
    {
     "name": "stdout",
     "output_type": "stream",
     "text": [
      "Shape of the new training set: (32561, 68). Shape of the new test set: (16281, 68).\n",
      "Index(['age', 'fnlwgt', 'education-num', 'capital-gain', 'capital-loss',\n",
      "       'hours-per-week', 'workclass_ ?', 'workclass_ federal-gov',\n",
      "       'workclass_ local-gov', 'workclass_ never-worked', 'workclass_ private',\n",
      "       'workclass_ self-emp-inc', 'workclass_ self-emp-not-inc',\n",
      "       'workclass_ state-gov', 'workclass_ without-pay', 'education_ 10th',\n",
      "       'education_ 11th', 'education_ 12th', 'education_ 1st-4th',\n",
      "       'education_ 5th-6th', 'education_ 7th-8th', 'education_ 9th',\n",
      "       'education_ assoc-acdm', 'education_ assoc-voc', 'education_ bachelors',\n",
      "       'education_ doctorate', 'education_ hs-grad', 'education_ masters',\n",
      "       'education_ preschool', 'education_ prof-school',\n",
      "       'education_ some-college', 'marital-status_ divorced',\n",
      "       'marital-status_ married-af-spouse',\n",
      "       'marital-status_ married-civ-spouse',\n",
      "       'marital-status_ married-spouse-absent',\n",
      "       'marital-status_ never-married', 'marital-status_ separated',\n",
      "       'marital-status_ widowed', 'relationship_ husband',\n",
      "       'relationship_ not-in-family', 'relationship_ other-relative',\n",
      "       'relationship_ own-child', 'relationship_ unmarried',\n",
      "       'relationship_ wife', 'race_ amer-indian-eskimo',\n",
      "       'race_ asian-pac-islander', 'race_ black', 'race_ other', 'race_ white',\n",
      "       'sex_ female', 'sex_ male', 'us_false', 'us_true', 'occupation_ ?',\n",
      "       'occupation_ adm-clerical', 'occupation_ armed-forces',\n",
      "       'occupation_ craft-repair', 'occupation_ exec-managerial',\n",
      "       'occupation_ farming-fishing', 'occupation_ handlers-cleaners',\n",
      "       'occupation_ machine-op-inspct', 'occupation_ other-service',\n",
      "       'occupation_ priv-house-serv', 'occupation_ prof-specialty',\n",
      "       'occupation_ protective-serv', 'occupation_ sales',\n",
      "       'occupation_ tech-support', 'occupation_ transport-moving'],\n",
      "      dtype='object')\n"
     ]
    }
   ],
   "source": [
    "print(\"Shape of the new training set: {}. Shape of the new test set: {}.\".format(x_train.shape, x_test.shape))\n",
    "print(x_test.columns)"
   ]
  },
  {
   "cell_type": "markdown",
   "id": "f77fbe37",
   "metadata": {},
   "source": [
    "### Feature Scaling"
   ]
  },
  {
   "cell_type": "code",
   "execution_count": 12,
   "id": "07e4f5f3",
   "metadata": {},
   "outputs": [],
   "source": [
    "# standardizes the data by removing the mean and scaling to unit variance\n",
    "from sklearn.preprocessing import StandardScaler\n",
    "scaler = StandardScaler()\n",
    "x_train = pd.DataFrame(scaler.fit_transform(x_train), columns=x_train.columns)\n",
    "x_test = pd.DataFrame(scaler.fit_transform(x_test), columns=x_test.columns)"
   ]
  },
  {
   "cell_type": "code",
   "execution_count": 13,
   "id": "fc67f148",
   "metadata": {},
   "outputs": [
    {
     "data": {
      "text/plain": [
       "1    7841\n",
       "0    7841\n",
       "Name: class, dtype: int64"
      ]
     },
     "execution_count": 13,
     "metadata": {},
     "output_type": "execute_result"
    }
   ],
   "source": [
    "#combine them back for resampling\n",
    "from sklearn.utils import resample\n",
    "\n",
    "train_data = pd.concat([x_train, y_train], axis=1)\n",
    "negative = train_data[train_data['class']==0]\n",
    "positive = train_data[train_data['class']==1]\n",
    "# downsample majority\n",
    "neg_downsampled = resample(negative,\n",
    " replace=True, # sample with replacement\n",
    " n_samples=len(positive), # match number in minority class\n",
    " random_state=27) # reproducible results\n",
    "# combine minority and downsampled majority\n",
    "downsampled = pd.concat([positive, neg_downsampled])\n",
    "# check new class counts\n",
    "downsampled['class'].value_counts()"
   ]
  },
  {
   "cell_type": "code",
   "execution_count": 14,
   "id": "5ea9118f",
   "metadata": {},
   "outputs": [],
   "source": [
    "y_train = downsampled['class']\n",
    "x_train = downsampled.drop(['class'], axis=1)"
   ]
  },
  {
   "cell_type": "markdown",
   "id": "ac755fd0",
   "metadata": {},
   "source": [
    "## Feature Selection\n",
    "In this section I will create a Random Forest Classifier and examine the model's most important features so that I can gain insight into which features are most important in predicting income level."
   ]
  },
  {
   "cell_type": "code",
   "execution_count": 15,
   "id": "d417a88d",
   "metadata": {},
   "outputs": [],
   "source": [
    "from sklearn.ensemble import RandomForestClassifier"
   ]
  },
  {
   "cell_type": "code",
   "execution_count": 16,
   "id": "f09b4554",
   "metadata": {},
   "outputs": [
    {
     "name": "stderr",
     "output_type": "stream",
     "text": [
      "[Parallel(n_jobs=1)]: Using backend SequentialBackend with 1 concurrent workers.\n",
      "[Parallel(n_jobs=1)]: Done 100 out of 100 | elapsed:    0.9s finished\n"
     ]
    },
    {
     "data": {
      "text/plain": [
       "RandomForestClassifier(verbose=1)"
      ]
     },
     "execution_count": 16,
     "metadata": {},
     "output_type": "execute_result"
    }
   ],
   "source": [
    "rf_model = RandomForestClassifier(verbose=1)\n",
    "rf_model.fit(x_train, y_train)"
   ]
  },
  {
   "cell_type": "code",
   "execution_count": 30,
   "id": "e03fce34",
   "metadata": {},
   "outputs": [
    {
     "data": {
      "text/html": [
       "<div>\n",
       "<style scoped>\n",
       "    .dataframe tbody tr th:only-of-type {\n",
       "        vertical-align: middle;\n",
       "    }\n",
       "\n",
       "    .dataframe tbody tr th {\n",
       "        vertical-align: top;\n",
       "    }\n",
       "\n",
       "    .dataframe thead th {\n",
       "        text-align: right;\n",
       "    }\n",
       "</style>\n",
       "<table border=\"1\" class=\"dataframe\">\n",
       "  <thead>\n",
       "    <tr style=\"text-align: right;\">\n",
       "      <th></th>\n",
       "      <th>importance</th>\n",
       "    </tr>\n",
       "  </thead>\n",
       "  <tbody>\n",
       "    <tr>\n",
       "      <th>education_ assoc-acdm</th>\n",
       "      <td>2.642232e-03</td>\n",
       "    </tr>\n",
       "    <tr>\n",
       "      <th>relationship_ other-relative</th>\n",
       "      <td>2.490770e-03</td>\n",
       "    </tr>\n",
       "    <tr>\n",
       "      <th>marital-status_ widowed</th>\n",
       "      <td>2.112026e-03</td>\n",
       "    </tr>\n",
       "    <tr>\n",
       "      <th>education_ 9th</th>\n",
       "      <td>2.087643e-03</td>\n",
       "    </tr>\n",
       "    <tr>\n",
       "      <th>workclass_ ?</th>\n",
       "      <td>1.929572e-03</td>\n",
       "    </tr>\n",
       "    <tr>\n",
       "      <th>occupation_ ?</th>\n",
       "      <td>1.914500e-03</td>\n",
       "    </tr>\n",
       "    <tr>\n",
       "      <th>marital-status_ separated</th>\n",
       "      <td>1.820319e-03</td>\n",
       "    </tr>\n",
       "    <tr>\n",
       "      <th>education_ 10th</th>\n",
       "      <td>1.556987e-03</td>\n",
       "    </tr>\n",
       "    <tr>\n",
       "      <th>race_ other</th>\n",
       "      <td>1.427692e-03</td>\n",
       "    </tr>\n",
       "    <tr>\n",
       "      <th>race_ amer-indian-eskimo</th>\n",
       "      <td>1.249408e-03</td>\n",
       "    </tr>\n",
       "    <tr>\n",
       "      <th>marital-status_ married-spouse-absent</th>\n",
       "      <td>1.001607e-03</td>\n",
       "    </tr>\n",
       "    <tr>\n",
       "      <th>education_ 12th</th>\n",
       "      <td>8.802583e-04</td>\n",
       "    </tr>\n",
       "    <tr>\n",
       "      <th>education_ 5th-6th</th>\n",
       "      <td>8.691811e-04</td>\n",
       "    </tr>\n",
       "    <tr>\n",
       "      <th>occupation_ priv-house-serv</th>\n",
       "      <td>4.647352e-04</td>\n",
       "    </tr>\n",
       "    <tr>\n",
       "      <th>marital-status_ married-af-spouse</th>\n",
       "      <td>4.059821e-04</td>\n",
       "    </tr>\n",
       "    <tr>\n",
       "      <th>education_ 1st-4th</th>\n",
       "      <td>3.368555e-04</td>\n",
       "    </tr>\n",
       "    <tr>\n",
       "      <th>workclass_ without-pay</th>\n",
       "      <td>9.666584e-05</td>\n",
       "    </tr>\n",
       "    <tr>\n",
       "      <th>education_ preschool</th>\n",
       "      <td>6.908450e-05</td>\n",
       "    </tr>\n",
       "    <tr>\n",
       "      <th>occupation_ armed-forces</th>\n",
       "      <td>1.860578e-05</td>\n",
       "    </tr>\n",
       "    <tr>\n",
       "      <th>workclass_ never-worked</th>\n",
       "      <td>2.807817e-09</td>\n",
       "    </tr>\n",
       "  </tbody>\n",
       "</table>\n",
       "</div>"
      ],
      "text/plain": [
       "                                         importance\n",
       "education_ assoc-acdm                  2.642232e-03\n",
       "relationship_ other-relative           2.490770e-03\n",
       "marital-status_ widowed                2.112026e-03\n",
       "education_ 9th                         2.087643e-03\n",
       "workclass_ ?                           1.929572e-03\n",
       "occupation_ ?                          1.914500e-03\n",
       "marital-status_ separated              1.820319e-03\n",
       "education_ 10th                        1.556987e-03\n",
       "race_ other                            1.427692e-03\n",
       "race_ amer-indian-eskimo               1.249408e-03\n",
       "marital-status_ married-spouse-absent  1.001607e-03\n",
       "education_ 12th                        8.802583e-04\n",
       "education_ 5th-6th                     8.691811e-04\n",
       "occupation_ priv-house-serv            4.647352e-04\n",
       "marital-status_ married-af-spouse      4.059821e-04\n",
       "education_ 1st-4th                     3.368555e-04\n",
       "workclass_ without-pay                 9.666584e-05\n",
       "education_ preschool                   6.908450e-05\n",
       "occupation_ armed-forces               1.860578e-05\n",
       "workclass_ never-worked                2.807817e-09"
      ]
     },
     "execution_count": 30,
     "metadata": {},
     "output_type": "execute_result"
    }
   ],
   "source": [
    "feature_importances = pd.DataFrame(rf_model.feature_importances_, index = x_train.columns,\n",
    "                                    columns=['importance']).sort_values('importance', ascending=False)\n",
    "feature_importances[-20:]"
   ]
  },
  {
   "cell_type": "code",
   "execution_count": 18,
   "id": "6e5af45a",
   "metadata": {},
   "outputs": [
    {
     "name": "stderr",
     "output_type": "stream",
     "text": [
      "[Parallel(n_jobs=1)]: Using backend SequentialBackend with 1 concurrent workers.\n"
     ]
    },
    {
     "name": "stdout",
     "output_type": "stream",
     "text": [
      "Testing accuracy: 0.800810761009766\n"
     ]
    },
    {
     "name": "stderr",
     "output_type": "stream",
     "text": [
      "[Parallel(n_jobs=1)]: Done 100 out of 100 | elapsed:    0.2s finished\n"
     ]
    }
   ],
   "source": [
    "print(\"Testing accuracy: {}\".format(rf_model.score(x_test, y_test)))"
   ]
  },
  {
   "cell_type": "markdown",
   "id": "984cef25",
   "metadata": {},
   "source": [
    "##### Removing Features\n",
    "Now I will remove the last 80 features as they do not prove useful"
   ]
  },
  {
   "cell_type": "code",
   "execution_count": null,
   "id": "e18df02d",
   "metadata": {},
   "outputs": [],
   "source": [
    "# removing columns that are not detected as important according to our decision tree\n",
    "x_train = x_train.drop(list(feature_importances.importance[-80:].index), axis=1)\n",
    "x_test = x_test.drop(list(feature_importances.importance[-80:].index), axis=1)"
   ]
  },
  {
   "cell_type": "code",
   "execution_count": null,
   "id": "a31c497e",
   "metadata": {},
   "outputs": [],
   "source": [
    "# now we have 28 columns left\n",
    "x_test.shape\n",
    "x_train.shape"
   ]
  },
  {
   "cell_type": "code",
   "execution_count": null,
   "id": "1b68829a",
   "metadata": {},
   "outputs": [],
   "source": [
    "rf_model = RandomForestClassifier(verbose=1)\n",
    "rf_model.fit(x_train, y_train)\n",
    "rf_model.score(x_test, y_test)"
   ]
  },
  {
   "cell_type": "markdown",
   "id": "ae4617b2",
   "metadata": {},
   "source": [
    "## Creating Neural Network for Income Prediction"
   ]
  },
  {
   "cell_type": "code",
   "execution_count": 19,
   "id": "297dbc35",
   "metadata": {},
   "outputs": [],
   "source": [
    "from keras.layers import Dense\n",
    "from keras.models import Sequential\n",
    "from keras.layers import Flatten\n",
    "from keras.layers import Dropout\n",
    "from keras.layers import Activation"
   ]
  },
  {
   "cell_type": "code",
   "execution_count": 20,
   "id": "1f7405e4",
   "metadata": {},
   "outputs": [],
   "source": [
    "class NeuralNet(object):\n",
    "    def __init__(self, epochs, num_classes, input_dim):\n",
    "        self.epochs = epochs\n",
    "        self.num_classes = num_classes\n",
    "        self.input_dim = input_dim\n",
    "        self.model = None\n",
    "        \n",
    "    def forward(self):\n",
    "        self.model = Sequential()\n",
    "        self.model.add(Dense(64, activation='relu', kernel_initializer='uniform', input_dim = input_dim)) \n",
    "        #self.model.add(Dropout(0.1))\n",
    "        #self.model.add(Dense(64, kernel_initializer='uniform', activation='relu'))\n",
    "        self.model.add(Dense(32, kernel_initializer='uniform', activation='relu'))\n",
    "        self.model.add(Dense(8, kernel_initializer='uniform', activation='relu'))\n",
    "        self.model.add(Dense(self.num_classes, kernel_initializer='uniform', activation='sigmoid'))\n",
    "    \n",
    "    def build(self):\n",
    "        self.model.compile(loss='binary_crossentropy', optimizer='sgd', metrics=['acc'])"
   ]
  },
  {
   "cell_type": "code",
   "execution_count": 21,
   "id": "0f626095",
   "metadata": {},
   "outputs": [
    {
     "name": "stdout",
     "output_type": "stream",
     "text": [
      "Model: \"sequential\"\n",
      "_________________________________________________________________\n",
      " Layer (type)                Output Shape              Param #   \n",
      "=================================================================\n",
      " dense (Dense)               (None, 64)                4416      \n",
      "                                                                 \n",
      " dense_1 (Dense)             (None, 32)                2080      \n",
      "                                                                 \n",
      " dense_2 (Dense)             (None, 8)                 264       \n",
      "                                                                 \n",
      " dense_3 (Dense)             (None, 1)                 9         \n",
      "                                                                 \n",
      "=================================================================\n",
      "Total params: 6,769\n",
      "Trainable params: 6,769\n",
      "Non-trainable params: 0\n",
      "_________________________________________________________________\n"
     ]
    },
    {
     "name": "stderr",
     "output_type": "stream",
     "text": [
      "2021-12-13 10:44:50.222082: I tensorflow/core/platform/cpu_feature_guard.cc:151] This TensorFlow binary is optimized with oneAPI Deep Neural Network Library (oneDNN) to use the following CPU instructions in performance-critical operations:  AVX2 FMA\n",
      "To enable them in other operations, rebuild TensorFlow with the appropriate compiler flags.\n"
     ]
    }
   ],
   "source": [
    "epochs=60\n",
    "input_dim = x_train.shape[1]\n",
    "num_classes = 1\n",
    "\n",
    "nn = NeuralNet(epochs, num_classes, input_dim)\n",
    "nn.forward(); nn.build()\n",
    "nn.model.summary()"
   ]
  },
  {
   "cell_type": "code",
   "execution_count": 22,
   "id": "722d89b1",
   "metadata": {},
   "outputs": [
    {
     "name": "stdout",
     "output_type": "stream",
     "text": [
      "Epoch 1/60\n",
      "3137/3137 [==============================] - 2s 589us/step - loss: 0.6933 - acc: 0.4971\n",
      "Epoch 2/60\n",
      "3137/3137 [==============================] - 2s 576us/step - loss: 0.6932 - acc: 0.5031\n",
      "Epoch 3/60\n",
      "3137/3137 [==============================] - 2s 574us/step - loss: 0.6932 - acc: 0.5008\n",
      "Epoch 4/60\n",
      "3137/3137 [==============================] - 2s 578us/step - loss: 0.6914 - acc: 0.5675\n",
      "Epoch 5/60\n",
      "3137/3137 [==============================] - 2s 574us/step - loss: 0.5128 - acc: 0.7765\n",
      "Epoch 6/60\n",
      "3137/3137 [==============================] - 2s 574us/step - loss: 0.3916 - acc: 0.8200\n",
      "Epoch 7/60\n",
      "3137/3137 [==============================] - 2s 576us/step - loss: 0.3788 - acc: 0.8225\n",
      "Epoch 8/60\n",
      "3137/3137 [==============================] - 2s 579us/step - loss: 0.3720 - acc: 0.8278\n",
      "Epoch 9/60\n",
      "3137/3137 [==============================] - 2s 582us/step - loss: 0.3664 - acc: 0.8301\n",
      "Epoch 10/60\n",
      "3137/3137 [==============================] - 2s 588us/step - loss: 0.3618 - acc: 0.8347\n",
      "Epoch 11/60\n",
      "3137/3137 [==============================] - 2s 573us/step - loss: 0.3570 - acc: 0.8366\n",
      "Epoch 12/60\n",
      "3137/3137 [==============================] - 2s 578us/step - loss: 0.3534 - acc: 0.8373\n",
      "Epoch 13/60\n",
      "3137/3137 [==============================] - 2s 572us/step - loss: 0.3517 - acc: 0.8380\n",
      "Epoch 14/60\n",
      "3137/3137 [==============================] - 2s 580us/step - loss: 0.3487 - acc: 0.8399\n",
      "Epoch 15/60\n",
      "3137/3137 [==============================] - 2s 578us/step - loss: 0.3459 - acc: 0.8461\n",
      "Epoch 16/60\n",
      "3137/3137 [==============================] - 2s 587us/step - loss: 0.3441 - acc: 0.8432\n",
      "Epoch 17/60\n",
      "3137/3137 [==============================] - 2s 605us/step - loss: 0.3411 - acc: 0.8456\n",
      "Epoch 18/60\n",
      "3137/3137 [==============================] - 2s 576us/step - loss: 0.3394 - acc: 0.8453\n",
      "Epoch 19/60\n",
      "3137/3137 [==============================] - 2s 580us/step - loss: 0.3374 - acc: 0.8475\n",
      "Epoch 20/60\n",
      "3137/3137 [==============================] - 2s 582us/step - loss: 0.3348 - acc: 0.8487\n",
      "Epoch 21/60\n",
      "3137/3137 [==============================] - 2s 582us/step - loss: 0.3319 - acc: 0.8511\n",
      "Epoch 22/60\n",
      "3137/3137 [==============================] - 2s 584us/step - loss: 0.3308 - acc: 0.8512\n",
      "Epoch 23/60\n",
      "3137/3137 [==============================] - 2s 576us/step - loss: 0.3279 - acc: 0.8507\n",
      "Epoch 24/60\n",
      "3137/3137 [==============================] - 2s 596us/step - loss: 0.3259 - acc: 0.8526\n",
      "Epoch 25/60\n",
      "3137/3137 [==============================] - 2s 580us/step - loss: 0.3246 - acc: 0.8540\n",
      "Epoch 26/60\n",
      "3137/3137 [==============================] - 2s 598us/step - loss: 0.3221 - acc: 0.8565\n",
      "Epoch 27/60\n",
      "3137/3137 [==============================] - 2s 580us/step - loss: 0.3200 - acc: 0.8554\n",
      "Epoch 28/60\n",
      "3137/3137 [==============================] - 2s 580us/step - loss: 0.3172 - acc: 0.8567\n",
      "Epoch 29/60\n",
      "3137/3137 [==============================] - 2s 586us/step - loss: 0.3174 - acc: 0.8577\n",
      "Epoch 30/60\n",
      "3137/3137 [==============================] - 2s 582us/step - loss: 0.3139 - acc: 0.8614\n",
      "Epoch 31/60\n",
      "3137/3137 [==============================] - 2s 579us/step - loss: 0.3114 - acc: 0.8618\n",
      "Epoch 32/60\n",
      "3137/3137 [==============================] - 2s 588us/step - loss: 0.3105 - acc: 0.8638\n",
      "Epoch 33/60\n",
      "3137/3137 [==============================] - 2s 590us/step - loss: 0.3096 - acc: 0.8616\n",
      "Epoch 34/60\n",
      "3137/3137 [==============================] - 2s 587us/step - loss: 0.3078 - acc: 0.8632\n",
      "Epoch 35/60\n",
      "3137/3137 [==============================] - 2s 581us/step - loss: 0.3048 - acc: 0.8632\n",
      "Epoch 36/60\n",
      "3137/3137 [==============================] - 2s 587us/step - loss: 0.3046 - acc: 0.8641\n",
      "Epoch 37/60\n",
      "3137/3137 [==============================] - 2s 591us/step - loss: 0.3016 - acc: 0.8633\n",
      "Epoch 38/60\n",
      "3137/3137 [==============================] - 2s 585us/step - loss: 0.3014 - acc: 0.8658\n",
      "Epoch 39/60\n",
      "3137/3137 [==============================] - 2s 589us/step - loss: 0.2983 - acc: 0.8670\n",
      "Epoch 40/60\n",
      "3137/3137 [==============================] - 2s 589us/step - loss: 0.2969 - acc: 0.8653\n",
      "Epoch 41/60\n",
      "3137/3137 [==============================] - 2s 646us/step - loss: 0.2955 - acc: 0.8692\n",
      "Epoch 42/60\n",
      "3137/3137 [==============================] - 2s 593us/step - loss: 0.2950 - acc: 0.8675\n",
      "Epoch 43/60\n",
      "3137/3137 [==============================] - 2s 584us/step - loss: 0.2917 - acc: 0.8695\n",
      "Epoch 44/60\n",
      "3137/3137 [==============================] - 2s 585us/step - loss: 0.2917 - acc: 0.8729\n",
      "Epoch 45/60\n",
      "3137/3137 [==============================] - 2s 584us/step - loss: 0.2895 - acc: 0.8700\n",
      "Epoch 46/60\n",
      "3137/3137 [==============================] - 2s 589us/step - loss: 0.2881 - acc: 0.8694\n",
      "Epoch 47/60\n",
      "3137/3137 [==============================] - 2s 591us/step - loss: 0.2851 - acc: 0.8746\n",
      "Epoch 48/60\n",
      "3137/3137 [==============================] - 2s 589us/step - loss: 0.2841 - acc: 0.8735\n",
      "Epoch 49/60\n",
      "3137/3137 [==============================] - 2s 635us/step - loss: 0.2836 - acc: 0.8748\n",
      "Epoch 50/60\n",
      "3137/3137 [==============================] - 2s 604us/step - loss: 0.2814 - acc: 0.8743\n",
      "Epoch 51/60\n",
      "3137/3137 [==============================] - 2s 590us/step - loss: 0.2787 - acc: 0.8760\n",
      "Epoch 52/60\n",
      "3137/3137 [==============================] - 2s 596us/step - loss: 0.2785 - acc: 0.8762\n",
      "Epoch 53/60\n",
      "3137/3137 [==============================] - 2s 600us/step - loss: 0.2755 - acc: 0.8770\n",
      "Epoch 54/60\n",
      "3137/3137 [==============================] - 2s 609us/step - loss: 0.2756 - acc: 0.8775\n",
      "Epoch 55/60\n",
      "3137/3137 [==============================] - 2s 604us/step - loss: 0.2749 - acc: 0.8772\n",
      "Epoch 56/60\n",
      "3137/3137 [==============================] - 2s 593us/step - loss: 0.2709 - acc: 0.8794\n",
      "Epoch 57/60\n",
      "3137/3137 [==============================] - 2s 623us/step - loss: 0.2686 - acc: 0.8831\n",
      "Epoch 58/60\n",
      "3137/3137 [==============================] - 2s 629us/step - loss: 0.2701 - acc: 0.8798\n",
      "Epoch 59/60\n",
      "3137/3137 [==============================] - 2s 619us/step - loss: 0.2665 - acc: 0.8808\n",
      "Epoch 60/60\n",
      "3137/3137 [==============================] - 2s 584us/step - loss: 0.2650 - acc: 0.8825\n"
     ]
    }
   ],
   "source": [
    "model_history = nn.model.fit(x_train, y_train,\n",
    "                    batch_size=5,\n",
    "                    epochs=epochs,\n",
    "                    verbose=1)"
   ]
  },
  {
   "cell_type": "markdown",
   "id": "d1220dc2",
   "metadata": {},
   "source": [
    "## Evaluation\n",
    "I will now evaluate the performance of my model using the following metrics:\n",
    "- Accuracy\n",
    "- ROC curve (and AUROC)\n",
    "- Confusion Matrix"
   ]
  },
  {
   "cell_type": "code",
   "execution_count": 24,
   "id": "4b269787",
   "metadata": {},
   "outputs": [],
   "source": [
    "from sklearn.metrics import roc_curve, auc, confusion_matrix, RocCurveDisplay"
   ]
  },
  {
   "cell_type": "markdown",
   "id": "fc7eb27d",
   "metadata": {},
   "source": [
    "### Accuracy"
   ]
  },
  {
   "cell_type": "code",
   "execution_count": 25,
   "id": "c8c96fba",
   "metadata": {},
   "outputs": [
    {
     "name": "stdout",
     "output_type": "stream",
     "text": [
      "491/491 [==============================] - 0s 482us/step - loss: 0.2502 - acc: 0.8890\n",
      "Training accuracy: 0.8890447616577148\n",
      "509/509 [==============================] - 0s 479us/step - loss: 0.5157 - acc: 0.7925\n",
      "Testing accuracy: 0.7924574613571167\n"
     ]
    }
   ],
   "source": [
    "print(\"Training accuracy: {}\".format(nn.model.evaluate(x_train, y_train)[1]))\n",
    "print(\"Testing accuracy: {}\".format(nn.model.evaluate(x_test, y_test)[1]))"
   ]
  },
  {
   "cell_type": "markdown",
   "id": "615d4786",
   "metadata": {},
   "source": [
    "### AUROC curve"
   ]
  },
  {
   "cell_type": "code",
   "execution_count": 26,
   "id": "cbb35b4f",
   "metadata": {},
   "outputs": [],
   "source": [
    "def plot_roc_curve(fpr, tpr, roc_auc, save=False):\n",
    "    '''\n",
    "    Plots the ROC curve comparing the TPR to the FPR\n",
    "    '''\n",
    "    plt.figure(dpi=100)\n",
    "    plt.plot(fpr, tpr, lw=1, color='green', label=f'AUC = {roc_auc:.3f}')\n",
    "    plt.title('ROC Curve for Neural Network classifier')\n",
    "    plt.xlabel('False Positive Rate')\n",
    "    plt.ylabel('True Positive Rate (Recall)')\n",
    "    plt.xlim([-0.05, 1.05]); plt.ylim([-0.05, 1.05])\n",
    "    plt.plot(np.linspace(0, 1, 100), np.linspace(0, 1, 100), label='baseline', linestyle='--', color='red')\n",
    "    plt.legend()\n",
    "    \n",
    "    if save: plt.savefig('roc_curve.png', bbox_inches='tight')\n",
    "    plt.show()"
   ]
  },
  {
   "cell_type": "code",
   "execution_count": 27,
   "id": "ce1a9eec",
   "metadata": {},
   "outputs": [
    {
     "data": {
      "image/png": "[encoded data removed]",
      "text/plain": [
       "<Figure size 600x400 with 1 Axes>"
      ]
     },
     "metadata": {
      "needs_background": "light"
     },
     "output_type": "display_data"
    }
   ],
   "source": [
    "# get fpr and tpr\n",
    "fpr, tpr, thresholds = roc_curve(y_test, nn.model.predict(x_test), pos_label=1)\n",
    "# gets area under the curve (will be plotted in legend)\n",
    "roc_auc = auc(fpr, tpr)\n",
    "plot_roc_curve(fpr, tpr, roc_auc)"
   ]
  },
  {
   "cell_type": "markdown",
   "id": "b0b62936",
   "metadata": {},
   "source": [
    "### Confusion Matrix"
   ]
  },
  {
   "cell_type": "code",
   "execution_count": 28,
   "id": "713ef734",
   "metadata": {},
   "outputs": [],
   "source": [
    "def plot_confusion_matrix(c_matrix, save=False):\n",
    "    plt.figure(figsize=(10, 8))\n",
    "    ax = sns.heatmap(c_matrix, annot=True, cmap='Blues', annot_kws={\"fontsize\":18}, fmt='.1f',\n",
    "                    xticklabels=['<=50k', '>50k'], yticklabels=['<=50k', '>50k'])\n",
    "    ax.set_xlabel(\"Predicted Label\", fontsize=20)\n",
    "    ax.set_ylabel(\"True Label\", fontsize=20)\n",
    "    ax.tick_params(axis='both', which='major', labelsize=16)\n",
    "    for t in ax.texts: t.set_text(t.get_text() + \"%\")\n",
    "    if save: plt.savefig('cm.png', bbox_inches='tight')\n",
    "    plt.show()"
   ]
  },
  {
   "cell_type": "code",
   "execution_count": 29,
   "id": "060dd782",
   "metadata": {},
   "outputs": [
    {
     "data": {
      "image/png": "[encoded data removed]",
      "text/plain": [
       "<Figure size 720x576 with 2 Axes>"
      ]
     },
     "metadata": {
      "needs_background": "light"
     },
     "output_type": "display_data"
    }
   ],
   "source": [
    "# TO DO: plot the actual label names (<50k, >50k)\n",
    "y_test_pred = (nn.model.predict(x_test) > 0.5).astype(\"float\")\n",
    "cm = confusion_matrix(y_test, y_test_pred, normalize='true')*100\n",
    "plot_confusion_matrix(cm)"
   ]
  },
  {
   "cell_type": "code",
   "execution_count": null,
   "id": "95d77bf0",
   "metadata": {},
   "outputs": [],
   "source": [
    "print(plt.hist(y_test_pred))"
   ]
  },
  {
   "cell_type": "code",
   "execution_count": null,
   "id": "ed2247da",
   "metadata": {},
   "outputs": [],
   "source": []
  }
 ],
 "metadata": {
  "kernelspec": {
   "display_name": "income_pred",
   "language": "python",
   "name": "income_pred"
  },
  "language_info": {
   "codemirror_mode": {
    "name": "ipython",
    "version": 3
   },
   "file_extension": ".py",
   "mimetype": "text/x-python",
   "name": "python",
   "nbconvert_exporter": "python",
   "pygments_lexer": "ipython3",
   "version": "3.7.7"
  }
 },
 "nbformat": 4,
 "nbformat_minor": 5
}
